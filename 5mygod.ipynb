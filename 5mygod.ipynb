{
 "cells": [
  {
   "cell_type": "code",
   "execution_count": null,
   "id": "3adab37c",
   "metadata": {},
   "outputs": [],
   "source": [
    "import pandas as pd\n",
    "\n",
    "accepted = pd.read_csv('accepted.csv')\n",
    "\n",
    "accepted.head(10)"
   ]
  },
  {
   "cell_type": "code",
   "execution_count": null,
   "id": "f65c447d",
   "metadata": {},
   "outputs": [],
   "source": [
    "rejected = pd.read_csv('rejected.csv')\n",
    "\n",
    "rejected.head(10)"
   ]
  }
 ],
 "metadata": {
  "kernelspec": {
   "display_name": "5mgproject",
   "language": "python",
   "name": "python3"
  },
  "language_info": {
   "codemirror_mode": {
    "name": "ipython",
    "version": 3
   },
   "file_extension": ".py",
   "mimetype": "text/x-python",
   "name": "python",
   "nbconvert_exporter": "python",
   "pygments_lexer": "ipython3",
   "version": "3.12.3"
  }
 },
 "nbformat": 4,
 "nbformat_minor": 5
}
